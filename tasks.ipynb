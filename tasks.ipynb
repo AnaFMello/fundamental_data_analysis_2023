{
 "cells": [
  {
   "cell_type": "markdown",
   "metadata": {},
   "source": [
    "# Fundamentals of Data Analysis Tasks\n",
    "\n",
    "**Ana Mello\n",
    "\n",
    "***"
   ]
  },
  {
   "cell_type": "markdown",
   "metadata": {},
   "source": [
    "## Task 1\n",
    "The Collatz conjecture is a famous unsolved problem in mathematics. The problem is to prove that if you start with any positive\n",
    "integer $x$ and repeatedly apply the function $f(x)$ below, you always get stuck in the repeating sequence 1, 4, 2, 1, 4, 2, ...\n",
    "\n",
    "For example, starting with the value 10, which is an even number, we divide it by 2 to get 5. Then 5 is an odd number so, we multiply by 3 and add 1 to get 16. Then we repeatedly divide by 2 to get 8, 4, 2, 1. Once we are at 1, we go back to 4 and get stuck in the repeating sequence 4, 2, 1 as we suspected.\n",
    "\n",
    "**Your task is to verify, using Python, that the conjecture is true for the first 10,000 positive integers.**"
   ]
  },
  {
   "cell_type": "code",
   "execution_count": 31,
   "metadata": {},
   "outputs": [],
   "source": [
    "def collatz_sequence(n):\n",
    "    sequence = [n]\n",
    "    while n != 1:\n",
    "        if n % 2 == 0:\n",
    "            n = n // 2\n",
    "        else:\n",
    "            n = 3 * n + 1\n",
    "        sequence.append(n)\n",
    "    return sequence\n",
    "\n",
    "## The collatz_sequence Function takes a positive iteger n as starting point and calculates the collatz sequence for that number. \n",
    "## It's process start with the number n and the calculation repets till gets the number 1.\n",
    "## For even numbers, the number is divided by 2 and add the result to a list named sequence. \n",
    "## If it's an odd number, it's multiplied by 3 and add 1, so the result returns as n\n",
    "## This process happens on a loop till n become 1. "
   ]
  },
  {
   "cell_type": "code",
   "execution_count": 32,
   "metadata": {},
   "outputs": [
    {
     "name": "stdout",
     "output_type": "stream",
     "text": [
      "Verification complete. The conjecture is true for the first 10,000 positive integers.\n"
     ]
    }
   ],
   "source": [
    "def verify_collatz_conjecture(limit):\n",
    "    for i in range(1, limit + 1):\n",
    "        sequence = collatz_sequence(i)\n",
    "        if sequence[-1] != 1:\n",
    "            print(f\"Collatz conjecture is not true for {i}\")\n",
    "    print(\"Verification complete. The conjecture is true for the first 10,000 positive integers.\")\n",
    "\n",
    "# Verify for the first 10,000 positive integers\n",
    "verify_collatz_conjecture(10000)\n",
    "\n",
    "\n",
    "## The verify_collatz_conjecture Function verifies the collatz conjecture for the limit positive integers, which in this case is definied 10,000.\n",
    "## The for loop go through the positive integers from 1 to the limit. \n",
    "## For eache intefer i, the function calls the collatz_sequence to calculate the collatz sequence for that integer. \n",
    "##  If the last number in the sequence is not 1, it meand the conjucture is false for that number and will print a message. \n",
    "## If the last number is 1, it means the conjucture is true and will print a message. "
   ]
  },
  {
   "cell_type": "markdown",
   "metadata": {},
   "source": [
    "***\n",
    "\n",
    "## End"
   ]
  }
 ],
 "metadata": {
  "kernelspec": {
   "display_name": "base",
   "language": "python",
   "name": "python3"
  },
  "language_info": {
   "codemirror_mode": {
    "name": "ipython",
    "version": 3
   },
   "file_extension": ".py",
   "mimetype": "text/x-python",
   "name": "python",
   "nbconvert_exporter": "python",
   "pygments_lexer": "ipython3",
   "version": "3.11.5"
  },
  "orig_nbformat": 4
 },
 "nbformat": 4,
 "nbformat_minor": 2
}
